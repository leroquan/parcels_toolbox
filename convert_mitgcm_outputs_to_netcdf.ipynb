{
 "cells": [
  {
   "cell_type": "code",
   "execution_count": 1,
   "id": "657b568e-8042-4c43-a438-e07f558b660e",
   "metadata": {},
   "outputs": [],
   "source": [
    "import xmitgcm as xm\n",
    "import json\n",
    "import os"
   ]
  },
  {
   "cell_type": "code",
   "execution_count": 3,
   "id": "7cac4fd2-e735-4e13-ab64-6142f90b0a18",
   "metadata": {},
   "outputs": [],
   "source": [
    "model = 'geneva_artful_01'\n",
    "with open('config.json', 'r') as file:\n",
    "    config_plots = json.load(file)[os.uname().nodename][model]\n",
    "\n",
    "datapath = config_plots['datapath']\n",
    "gridpath = config_plots['gridpath']\n",
    "ref_date = config_plots['ref_date']\n",
    "dt = config_plots['dt']"
   ]
  },
  {
   "cell_type": "code",
   "execution_count": 4,
   "id": "1c8a5551-d0f1-4b89-b200-c8ca87cf9ebb",
   "metadata": {},
   "outputs": [],
   "source": [
    "# load velocity data\n",
    "data_vel  = xm.open_mdsdataset(datapath, delta_t=dt,\n",
    "                            ignore_unknown_vars=True, grid_dir=gridpath, \n",
    "                            geometry=\"cartesian\", calendar=\"standard\", ref_date=ref_date, \n",
    "                            prefix=\"3Dsnaps\", endian='>',\n",
    "                              )"
   ]
  },
  {
   "cell_type": "code",
   "execution_count": null,
   "id": "8d07a7fa-4275-405b-a4a1-dbc545bce9c2",
   "metadata": {},
   "outputs": [],
   "source": [
    "data_vel.isel(Z=0, time=-1).plot()"
   ]
  },
  {
   "cell_type": "code",
   "execution_count": null,
   "id": "595c8265-f65f-48ed-a5bb-1c07755adaa4",
   "metadata": {},
   "outputs": [],
   "source": [
    "data_vel.isel(Z=range(0,50)).to_netcdf('/storage/alplakes_test/ARTFUL_project/01_2023-09-12/geneva_artful_01.nc')"
   ]
  },
  {
   "cell_type": "code",
   "execution_count": null,
   "id": "735968f1-b278-4e61-be4e-f3fccb8d5aff",
   "metadata": {},
   "outputs": [],
   "source": [
    "a =1"
   ]
  },
  {
   "cell_type": "code",
   "execution_count": null,
   "id": "f8504c09-9103-4a4b-8a40-ea8bb0436255",
   "metadata": {},
   "outputs": [],
   "source": []
  }
 ],
 "metadata": {
  "kernelspec": {
   "display_name": "parcels_venv",
   "language": "python",
   "name": "parcels_venv"
  },
  "language_info": {
   "codemirror_mode": {
    "name": "ipython",
    "version": 3
   },
   "file_extension": ".py",
   "mimetype": "text/x-python",
   "name": "python",
   "nbconvert_exporter": "python",
   "pygments_lexer": "ipython3",
   "version": "3.12.7"
  }
 },
 "nbformat": 4,
 "nbformat_minor": 5
}
