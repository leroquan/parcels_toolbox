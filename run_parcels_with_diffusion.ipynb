{
 "cells": [
  {
   "cell_type": "code",
   "execution_count": 1,
   "id": "initial_id",
   "metadata": {
    "ExecuteTime": {
     "end_time": "2024-12-20T14:31:09.253192Z",
     "start_time": "2024-12-20T14:31:09.246450Z"
    }
   },
   "outputs": [],
   "source": [
    "import parcels\n",
    "import xarray as xr\n",
    "from datetime import timedelta, datetime\n",
    "import os\n",
    "import json\n",
    "\n",
    "import random\n",
    "import numpy as np\n",
    "import time\n",
    "\n",
    "import matplotlib.pyplot as plt\n",
    "import pandas as pd"
   ]
  },
  {
   "cell_type": "markdown",
   "id": "5656078b-c0a9-4cc0-aa39-893eee39e929",
   "metadata": {},
   "source": [
    "mitgcm_results_path = '/storage/alplakes_test/ARTFUL_project/03_2024-05-01/geneva_artful_03.nc'\n",
    "date_end_seeding = np.datetime64('2024-05-01 12:00:00')\n",
    "\n",
    "output_file_path = \"02_output/artful_03_02.zarr\"\n",
    "\n",
    "period_seeding = np.timedelta64(10, 'D')\n",
    "freq_seeding = np.timedelta64(1, 'h')\n",
    "\n",
    "date_start_seeding = date_end_seeding - period_seeding"
   ]
  },
  {
   "cell_type": "markdown",
   "id": "a47e1c56-71e0-438b-87ac-a95796923857",
   "metadata": {},
   "source": [
    "mitgcm_results_path = '/storage/alplakes_test/ARTFUL_project/01_2023-09-12/geneva_artful_01.nc'\n",
    "date_end_seeding = np.datetime64('2023-09-12 12:00:00')\n",
    "\n",
    "output_file_path = \"02_output/artful_01_diff.zarr\"\n",
    "\n",
    "period_seeding = np.timedelta64(10, 'D')\n",
    "freq_seeding = np.timedelta64(1, 'h')\n",
    "\n",
    "date_start_seeding = date_end_seeding - period_seeding"
   ]
  },
  {
   "cell_type": "markdown",
   "id": "7fe6a71f-56e4-4cfe-b9e9-55cbaa70faec",
   "metadata": {},
   "source": [
    "mitgcm_results_path = '/storage/alplakes_test/ARTFUL_project/02_2023-11-08/geneva_artful_02.nc'\n",
    "date_end_seeding = np.datetime64('2023-11-08 11:00:00')\n",
    "\n",
    "output_file_path = \"02_output/artful_02_diff.zarr\"\n",
    "\n",
    "period_seeding = np.timedelta64(10, 'D')\n",
    "freq_seeding = np.timedelta64(1, 'h')\n",
    "\n",
    "date_start_seeding = date_end_seeding - period_seeding"
   ]
  },
  {
   "cell_type": "markdown",
   "id": "f2e4076a-a8c1-44c2-80af-1df1ed473ea0",
   "metadata": {},
   "source": [
    "### Parameters"
   ]
  },
  {
   "cell_type": "code",
   "execution_count": 53,
   "id": "08eb6cbb-f647-4a32-b0ae-334d3887b83f",
   "metadata": {},
   "outputs": [],
   "source": [
    "mitgcm_results_path = '/storage/alplakes_test/ARTFUL_project/01_2023-09-12/geneva_artful_01.nc'\n",
    "date_end_seeding = np.datetime64('2023-09-12 12:00:00')\n",
    "\n",
    "output_file_path = \"02_output/artful_01_diff.zarr\"\n",
    "\n",
    "period_seeding = np.timedelta64(10, 'D')\n",
    "freq_seeding = np.timedelta64(1, 'h')\n",
    "\n",
    "date_start_seeding = date_end_seeding - period_seeding"
   ]
  },
  {
   "cell_type": "markdown",
   "id": "effcd402526a2b4c",
   "metadata": {
    "collapsed": false,
    "jupyter": {
     "outputs_hidden": false
    }
   },
   "source": [
    "## Create velocity fields from MITgcm"
   ]
  },
  {
   "cell_type": "code",
   "execution_count": 54,
   "id": "d31ce2a9-909f-4f0e-8f11-ed93223e389e",
   "metadata": {
    "scrolled": true
   },
   "outputs": [],
   "source": [
    "xr_mitgcm = xr.open_dataset(mitgcm_results_path)\n",
    "date_ref = xr_mitgcm.time.values[0]"
   ]
  },
  {
   "cell_type": "code",
   "execution_count": 55,
   "id": "357de7daaa97c26f",
   "metadata": {
    "ExecuteTime": {
     "end_time": "2024-12-20T14:21:09.796064Z",
     "start_time": "2024-12-20T14:21:09.779644Z"
    },
    "collapsed": false,
    "jupyter": {
     "outputs_hidden": false
    },
    "scrolled": true
   },
   "outputs": [],
   "source": [
    "variables = {\"U\": \"UVEL\", \"V\": \"VVEL\", \"W\": \"WVEL\"}\n",
    "dimensions = {\n",
    "    \"U\": {\n",
    "        \"lon\": \"XG\",\n",
    "        \"lat\": \"YG\",\n",
    "        \"depth\": \"Z\",\n",
    "        \"time\": \"time\",\n",
    "    },\n",
    "    \"V\": {\n",
    "        \"lon\": \"XG\",\n",
    "        \"lat\": \"YG\",\n",
    "        \"depth\": \"Z\",\n",
    "        \"time\": \"time\",\n",
    "    },\n",
    "    \"W\": {\n",
    "        \"lon\": \"XG\",\n",
    "        \"lat\": \"YG\",\n",
    "        \"depth\": \"Z\",\n",
    "        \"time\": \"time\",\n",
    "    },\n",
    "}\n",
    "fieldset = parcels.FieldSet.from_mitgcm(\n",
    "    filenames=[mitgcm_results_path], \n",
    "    variables=variables, \n",
    "    dimensions=dimensions, \n",
    "    allow_time_extrapolation=False,\n",
    "    mesh='flat') # mesh='flat' if longitudes and latitudes are given in meters, rather than degrees"
   ]
  },
  {
   "cell_type": "code",
   "execution_count": 56,
   "id": "95f15271-be88-4f2a-a433-5c4e7893b2ec",
   "metadata": {},
   "outputs": [],
   "source": [
    "x = fieldset.U.grid.lon\n",
    "y = fieldset.U.grid.lat\n",
    "\n",
    "cell_areas = parcels.Field(\n",
    "    name=\"cell_areas\", data=fieldset.U.cell_areas(), lon=x, lat=y\n",
    ")\n",
    "fieldset.add_field(cell_areas)\n",
    "\n",
    "fieldset.add_constant(\"Cs\", 0.1)"
   ]
  },
  {
   "cell_type": "markdown",
   "id": "d4b8e5152744118",
   "metadata": {
    "collapsed": false,
    "jupyter": {
     "outputs_hidden": false
    }
   },
   "source": [
    "## Create particle set"
   ]
  },
  {
   "cell_type": "markdown",
   "id": "732b215d-8f90-4e17-9af6-fcc49f78a109",
   "metadata": {},
   "source": [
    "Here we create particles randomly seeded within a defined circle."
   ]
  },
  {
   "cell_type": "code",
   "execution_count": 57,
   "id": "ed5e827b-2951-464d-a27d-57c8776a94fe",
   "metadata": {},
   "outputs": [],
   "source": [
    "def RandomPointInCircle(R,xc,yc):\n",
    "    r = R*random.random()\n",
    "    theta = 2*np.pi*random.random()\n",
    "    \n",
    "    return xc+r*np.cos(theta),yc+r*np.sin(theta)"
   ]
  },
  {
   "cell_type": "code",
   "execution_count": 58,
   "id": "1af60902-a3e8-4c6b-a09e-e2a25c848d05",
   "metadata": {},
   "outputs": [],
   "source": [
    "def RandomPointInRectangle(xmin, xmax, ymin, ymax):\n",
    "    return xmin+(xmax-xmin)*random.random(), ymin+(ymax-ymin)*random.random()"
   ]
  },
  {
   "cell_type": "code",
   "execution_count": 59,
   "id": "baed5ab2-a883-495b-adb6-de239f4d5b5a",
   "metadata": {},
   "outputs": [
    {
     "name": "stdout",
     "output_type": "stream",
     "text": [
      "Total number of particles: 480000\n",
      "Date ref: 2023-08-31T12:30:00.000000000\n",
      "Date start seeding: 2023-09-02T12:00:00\n",
      "Date end seeding: 2023-09-12T12:00:00\n",
      "Depth min: 24\n"
     ]
    }
   ],
   "source": [
    "n_part_per_seeding = 2000\n",
    "n_part = int(n_part_per_seeding * period_seeding / freq_seeding) # total number of particles at the end\n",
    "print('Total number of particles: ' + str(n_part))\n",
    "print('Date ref: ' + str(date_ref))\n",
    "print('Date start seeding: ' + str(date_start_seeding))\n",
    "print('Date end seeding: ' + str(date_start_seeding + int(period_seeding / freq_seeding) * freq_seeding))\n",
    "\n",
    "depth_min = 24 # minimum release depth\n",
    "depth_max = 26 # maximum release depth\n",
    "print('Depth min: ' + str(depth_min))\n",
    "(x_c,y_c) = (44275, 21375) # center of seeding point in MITgcm coordinates\n",
    "r_seeding = 50 # the radius around the center in m\n",
    "\n",
    "zi_particles = np.array([-random.uniform(depth_min, depth_max) for i in range(n_part)])\n",
    "xi_particles = x_c*np.ones(n_part)\n",
    "yi_particles = y_c*np.ones(n_part)\n",
    "\n",
    "\n",
    "timei_particles = np.zeros(n_part)\n",
    "for i in range(int(period_seeding / freq_seeding)):\n",
    "    seeding_date = date_start_seeding + i * freq_seeding\n",
    "    timei_particles[i * n_part_per_seeding : (i+1) * n_part_per_seeding] = (seeding_date - date_ref)/ np.timedelta64(1, 's')\n",
    "\n",
    "for i in range(n_part):\n",
    "    (xd,yd) = RandomPointInCircle(r_seeding,x_c,y_c)\n",
    "    xi_particles[i] = xd\n",
    "    yi_particles[i] = yd"
   ]
  },
  {
   "cell_type": "code",
   "execution_count": 60,
   "id": "ce88fda166a1fbdc",
   "metadata": {
    "ExecuteTime": {
     "end_time": "2024-12-20T14:25:27.824356Z",
     "start_time": "2024-12-20T14:25:27.816323Z"
    },
    "collapsed": false,
    "jupyter": {
     "outputs_hidden": false
    }
   },
   "outputs": [],
   "source": [
    "pset = parcels.ParticleSet.from_list(\n",
    "    fieldset=fieldset,  # the fields on which the particles are advected\n",
    "    pclass=parcels.JITParticle,  # the type of particles (JITParticle or ScipyParticle)\n",
    "    lon=xi_particles,  # a vector of release longitudes\n",
    "    lat=yi_particles,  # a vector of release latitudes\n",
    "    depth=zi_particles,\n",
    "    time=timei_particles\n",
    ")"
   ]
  },
  {
   "cell_type": "code",
   "execution_count": 61,
   "id": "d71ba87c-0d12-42c0-b66d-c6f4a0651298",
   "metadata": {
    "ExecuteTime": {
     "end_time": "2024-12-20T14:25:29.443589Z",
     "start_time": "2024-12-20T14:25:29.007683Z"
    },
    "collapsed": false,
    "jupyter": {
     "outputs_hidden": false
    }
   },
   "outputs": [
    {
     "data": {
      "image/png": "[encoded data removed]",
      "text/plain": [
       "<Figure size 1500x700 with 2 Axes>"
      ]
     },
     "metadata": {},
     "output_type": "display_data"
    }
   ],
   "source": [
    "plt.figure(figsize=(15,7))\n",
    "plt.pcolormesh(fieldset.U.grid.lon, fieldset.U.grid.lat, xr_mitgcm['THETA'].isel(Z=0, time= -1).values)\n",
    "plt.xlabel(\"X [m]\")\n",
    "plt.ylabel(\"Y [m]\")\n",
    "plt.colorbar()\n",
    "\n",
    "plt.scatter(pset.lon[0:n_part_per_seeding], pset.lat[0:n_part_per_seeding], s=3, c='r')\n",
    "#plt.xlim(left=35000, right=50000)\n",
    "#plt.ylim(bottom=15000)\n",
    "plt.show()"
   ]
  },
  {
   "cell_type": "markdown",
   "id": "362682b8-f9b3-4e5d-bad6-6a612cfced89",
   "metadata": {},
   "source": [
    "## Create a new kernel for Smagorinsky diffusion method"
   ]
  },
  {
   "cell_type": "markdown",
   "id": "98b641e9-18d7-41ae-9b67-22a9e5aceeb0",
   "metadata": {},
   "source": [
    "https://docs.oceanparcels.org/en/latest/examples/tutorial_diffusion.html"
   ]
  },
  {
   "cell_type": "code",
   "execution_count": 62,
   "id": "38bcc83e-aa39-425c-93c3-4cf9025b555e",
   "metadata": {},
   "outputs": [],
   "source": [
    "def smagdiff(particle, fieldset, time):\n",
    "    dx = 50\n",
    "    # gradients are computed by using a local central difference.\n",
    "    updx, vpdx = fieldset.UV[time, particle.depth, particle.lat, particle.lon + dx]\n",
    "    umdx, vmdx = fieldset.UV[time, particle.depth, particle.lat, particle.lon - dx]\n",
    "    updy, vpdy = fieldset.UV[time, particle.depth, particle.lat + dx, particle.lon]\n",
    "    umdy, vmdy = fieldset.UV[time, particle.depth, particle.lat - dx, particle.lon]\n",
    "\n",
    "    dudx = (updx - umdx) / (2 * dx)\n",
    "    dudy = (updy - umdy) / (2 * dx)\n",
    "\n",
    "    dvdx = (vpdx - vmdx) / (2 * dx)\n",
    "    dvdy = (vpdy - vmdy) / (2 * dx)\n",
    "\n",
    "    A = fieldset.cell_areas[time, 0, particle.lat, particle.lon]\n",
    "    Kh = fieldset.Cs * A * math.sqrt(dudx**2 + 0.5 * (dudy + dvdx) ** 2 + dvdy**2)\n",
    "\n",
    "    dlat = parcels.ParcelsRandom.normalvariate(0.0, 1.0) * math.sqrt(\n",
    "        2 * math.fabs(particle.dt) * Kh\n",
    "    )\n",
    "    dlon = parcels.ParcelsRandom.normalvariate(0.0, 1.0) * math.sqrt(\n",
    "        2 * math.fabs(particle.dt) * Kh\n",
    "    )\n",
    "\n",
    "    particle_dlat += dlat\n",
    "    particle_dlon += dlon"
   ]
  },
  {
   "cell_type": "markdown",
   "id": "9595e1f272d477ce",
   "metadata": {
    "collapsed": false,
    "jupyter": {
     "outputs_hidden": false
    }
   },
   "source": [
    "## Set output parameters"
   ]
  },
  {
   "cell_type": "code",
   "execution_count": 63,
   "id": "afc8d43adacaa39",
   "metadata": {
    "ExecuteTime": {
     "end_time": "2024-12-20T14:29:06.008842Z",
     "start_time": "2024-12-20T14:29:06.003161Z"
    }
   },
   "outputs": [],
   "source": [
    "output_file = pset.ParticleFile(\n",
    "    name=output_file_path,  # the file name\n",
    "    outputdt=timedelta(hours=1),  # the time step of the outputs\n",
    ")"
   ]
  },
  {
   "cell_type": "code",
   "execution_count": 64,
   "id": "8e28c51c-918b-41e4-afe1-88895e175323",
   "metadata": {},
   "outputs": [
    {
     "data": {
      "text/plain": [
       "np.int64(10)"
      ]
     },
     "execution_count": 64,
     "metadata": {},
     "output_type": "execute_result"
    }
   ],
   "source": [
    "period_seeding.astype('timedelta64[D]').astype(int)"
   ]
  },
  {
   "cell_type": "markdown",
   "id": "ab1f7a6139283dd7",
   "metadata": {
    "collapsed": false,
    "jupyter": {
     "outputs_hidden": false
    }
   },
   "source": [
    "## Run simulation"
   ]
  },
  {
   "cell_type": "code",
   "execution_count": 65,
   "id": "3f194416f7efcb7f",
   "metadata": {
    "ExecuteTime": {
     "end_time": "2024-12-20T14:31:14.583985Z",
     "start_time": "2024-12-20T14:31:14.541446Z"
    },
    "collapsed": false,
    "jupyter": {
     "outputs_hidden": false
    },
    "scrolled": true
   },
   "outputs": [
    {
     "name": "stdout",
     "output_type": "stream",
     "text": [
      "INFO: Output files are stored in 02_output/artful_01_diff.zarr.\n",
      "100%|██████████| 878400.0/878400.0 [2:21:30<00:00, 103.46it/s] \n",
      "Done. Operation took 8493.015179872513s.\n"
     ]
    }
   ],
   "source": [
    "start_clock = time.time()\n",
    "pset.execute(\n",
    "    [parcels.AdvectionRK4, smagdiff],  # the kernel (which defines how particles move)\n",
    "    runtime=timedelta(days=int(period_seeding.astype('timedelta64[D]').astype(int)), hours=4),  # the total length of the run\n",
    "    dt=timedelta(minutes=1),  # the timestep of the kernel\n",
    "    output_file=output_file,\n",
    ")\n",
    "end_clock = time.time()\n",
    "print(f'Done. Operation took {end_clock - start_clock}s.')"
   ]
  },
  {
   "cell_type": "code",
   "execution_count": null,
   "id": "d08982fb-cc2b-4b3d-8bb5-f3013385c92c",
   "metadata": {},
   "outputs": [],
   "source": [
    "a = 0"
   ]
  }
 ],
 "metadata": {
  "kernelspec": {
   "display_name": "parcels_toolbox",
   "language": "python",
   "name": "parcels_toolbox"
  },
  "language_info": {
   "codemirror_mode": {
    "name": "ipython",
    "version": 3
   },
   "file_extension": ".py",
   "mimetype": "text/x-python",
   "name": "python",
   "nbconvert_exporter": "python",
   "pygments_lexer": "ipython3",
   "version": "3.10.16"
  }
 },
 "nbformat": 4,
 "nbformat_minor": 5
}
